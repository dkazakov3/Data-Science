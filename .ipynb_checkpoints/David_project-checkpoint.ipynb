{
  "cells": [
    {
      "metadata": {
        "trusted": true
      },
      "cell_type": "code",
      "source": "import pandas as pd\nimport numpy as np \nfrom sklearn.datasets import load_iris",
      "execution_count": 85,
      "outputs": []
    },
    {
      "metadata": {
        "trusted": true
      },
      "cell_type": "code",
      "source": "iris = load_iris()\niris_df = pd.DataFrame(data=iris['data'], columns=iris['feature_names'])",
      "execution_count": 86,
      "outputs": []
    },
    {
      "metadata": {
        "trusted": true
      },
      "cell_type": "code",
      "source": "iris_df.info()",
      "execution_count": 87,
      "outputs": [
        {
          "output_type": "stream",
          "text": "<class 'pandas.core.frame.DataFrame'>\nRangeIndex: 150 entries, 0 to 149\nData columns (total 4 columns):\nsepal length (cm)    150 non-null float64\nsepal width (cm)     150 non-null float64\npetal length (cm)    150 non-null float64\npetal width (cm)     150 non-null float64\ndtypes: float64(4)\nmemory usage: 4.8 KB\n",
          "name": "stdout"
        }
      ]
    },
    {
      "metadata": {
        "trusted": true
      },
      "cell_type": "code",
      "source": "df_a = pd.read_csv('Data/data_CSV.csv')\ndf.head()",
      "execution_count": 89,
      "outputs": [
        {
          "output_type": "execute_result",
          "execution_count": 89,
          "data": {
            "text/plain": "   number Country or area   Color  Adolescent fertility rate\n0       1     Afghanistan     red                       99.6\n1       2         Albania  yellow                       14.9\n2       3         Algeria    blue                        6.1\n3       4  American Samoa   green                       54.0\n4       5         Andorra    pink                        0.0",
            "text/html": "<div>\n<style scoped>\n    .dataframe tbody tr th:only-of-type {\n        vertical-align: middle;\n    }\n\n    .dataframe tbody tr th {\n        vertical-align: top;\n    }\n\n    .dataframe thead th {\n        text-align: right;\n    }\n</style>\n<table border=\"1\" class=\"dataframe\">\n  <thead>\n    <tr style=\"text-align: right;\">\n      <th></th>\n      <th>number</th>\n      <th>Country or area</th>\n      <th>Color</th>\n      <th>Adolescent fertility rate</th>\n    </tr>\n  </thead>\n  <tbody>\n    <tr>\n      <th>0</th>\n      <td>1</td>\n      <td>Afghanistan</td>\n      <td>red</td>\n      <td>99.6</td>\n    </tr>\n    <tr>\n      <th>1</th>\n      <td>2</td>\n      <td>Albania</td>\n      <td>yellow</td>\n      <td>14.9</td>\n    </tr>\n    <tr>\n      <th>2</th>\n      <td>3</td>\n      <td>Algeria</td>\n      <td>blue</td>\n      <td>6.1</td>\n    </tr>\n    <tr>\n      <th>3</th>\n      <td>4</td>\n      <td>American Samoa</td>\n      <td>green</td>\n      <td>54.0</td>\n    </tr>\n    <tr>\n      <th>4</th>\n      <td>5</td>\n      <td>Andorra</td>\n      <td>pink</td>\n      <td>0.0</td>\n    </tr>\n  </tbody>\n</table>\n</div>"
          },
          "metadata": {}
        }
      ]
    },
    {
      "metadata": {
        "trusted": true
      },
      "cell_type": "code",
      "source": "df_b = pd.read_csv('Data/data_CSV2.csv')\ndf.tail()",
      "execution_count": 103,
      "outputs": [
        {
          "output_type": "execute_result",
          "execution_count": 103,
          "data": {
            "text/plain": "     number            Country or area   Color  Adolescent fertility rate\n212     213  Wallis and Futuna Islands    blue                        9.0\n213     214             Western Sahara   green                       16.1\n214     215                      Yemen    pink                       66.1\n215     216                     Zambia     red                      138.5\n216     217                   Zimbabwe  yellow                       53.4",
            "text/html": "<div>\n<style scoped>\n    .dataframe tbody tr th:only-of-type {\n        vertical-align: middle;\n    }\n\n    .dataframe tbody tr th {\n        vertical-align: top;\n    }\n\n    .dataframe thead th {\n        text-align: right;\n    }\n</style>\n<table border=\"1\" class=\"dataframe\">\n  <thead>\n    <tr style=\"text-align: right;\">\n      <th></th>\n      <th>number</th>\n      <th>Country or area</th>\n      <th>Color</th>\n      <th>Adolescent fertility rate</th>\n    </tr>\n  </thead>\n  <tbody>\n    <tr>\n      <th>212</th>\n      <td>213</td>\n      <td>Wallis and Futuna Islands</td>\n      <td>blue</td>\n      <td>9.0</td>\n    </tr>\n    <tr>\n      <th>213</th>\n      <td>214</td>\n      <td>Western Sahara</td>\n      <td>green</td>\n      <td>16.1</td>\n    </tr>\n    <tr>\n      <th>214</th>\n      <td>215</td>\n      <td>Yemen</td>\n      <td>pink</td>\n      <td>66.1</td>\n    </tr>\n    <tr>\n      <th>215</th>\n      <td>216</td>\n      <td>Zambia</td>\n      <td>red</td>\n      <td>138.5</td>\n    </tr>\n    <tr>\n      <th>216</th>\n      <td>217</td>\n      <td>Zimbabwe</td>\n      <td>yellow</td>\n      <td>53.4</td>\n    </tr>\n  </tbody>\n</table>\n</div>"
          },
          "metadata": {}
        }
      ]
    },
    {
      "metadata": {
        "trusted": true
      },
      "cell_type": "code",
      "source": "df_b.shape",
      "execution_count": 73,
      "outputs": [
        {
          "output_type": "execute_result",
          "execution_count": 73,
          "data": {
            "text/plain": "(191, 4)"
          },
          "metadata": {}
        }
      ]
    },
    {
      "metadata": {
        "trusted": true
      },
      "cell_type": "code",
      "source": "df_b_color = df_b[df_b[\"Color\"] == \"yellow\"]\ndf_b_color.head()\ndf_b.shape",
      "execution_count": 74,
      "outputs": [
        {
          "output_type": "execute_result",
          "execution_count": 74,
          "data": {
            "text/plain": "(191, 4)"
          },
          "metadata": {}
        }
      ]
    },
    {
      "metadata": {
        "trusted": true
      },
      "cell_type": "code",
      "source": ">>> inner_merged = pd.merge(df_b_color,df_b)\n>>> inner_merged.head()",
      "execution_count": 75,
      "outputs": [
        {
          "output_type": "execute_result",
          "execution_count": 75,
          "data": {
            "text/plain": "   Row_number         Country or area   Color  Adolescent fertility rate\n0           2                 Albania  yellow                       14.9\n1           7                Anguilla  yellow                        0.0\n2          42  China, Hong Kong SAR 5  yellow                        4.2\n3          47            Cook Islands  yellow                       62.0\n4          52                Cyprus 7  yellow                        5.5",
            "text/html": "<div>\n<style scoped>\n    .dataframe tbody tr th:only-of-type {\n        vertical-align: middle;\n    }\n\n    .dataframe tbody tr th {\n        vertical-align: top;\n    }\n\n    .dataframe thead th {\n        text-align: right;\n    }\n</style>\n<table border=\"1\" class=\"dataframe\">\n  <thead>\n    <tr style=\"text-align: right;\">\n      <th></th>\n      <th>Row_number</th>\n      <th>Country or area</th>\n      <th>Color</th>\n      <th>Adolescent fertility rate</th>\n    </tr>\n  </thead>\n  <tbody>\n    <tr>\n      <th>0</th>\n      <td>2</td>\n      <td>Albania</td>\n      <td>yellow</td>\n      <td>14.9</td>\n    </tr>\n    <tr>\n      <th>1</th>\n      <td>7</td>\n      <td>Anguilla</td>\n      <td>yellow</td>\n      <td>0.0</td>\n    </tr>\n    <tr>\n      <th>2</th>\n      <td>42</td>\n      <td>China, Hong Kong SAR 5</td>\n      <td>yellow</td>\n      <td>4.2</td>\n    </tr>\n    <tr>\n      <th>3</th>\n      <td>47</td>\n      <td>Cook Islands</td>\n      <td>yellow</td>\n      <td>62.0</td>\n    </tr>\n    <tr>\n      <th>4</th>\n      <td>52</td>\n      <td>Cyprus 7</td>\n      <td>yellow</td>\n      <td>5.5</td>\n    </tr>\n  </tbody>\n</table>\n</div>"
          },
          "metadata": {}
        }
      ]
    },
    {
      "metadata": {
        "trusted": true
      },
      "cell_type": "code",
      "source": "inner_merged.shape",
      "execution_count": 76,
      "outputs": [
        {
          "output_type": "execute_result",
          "execution_count": 76,
          "data": {
            "text/plain": "(48, 4)"
          },
          "metadata": {}
        }
      ]
    },
    {
      "metadata": {
        "trusted": true
      },
      "cell_type": "code",
      "source": ">>> inner_merged = pd.merge(df_b_color, df_b ,on=[ \"Row_number\"])\n>>> inner_merged.head()",
      "execution_count": 77,
      "outputs": [
        {
          "output_type": "execute_result",
          "execution_count": 77,
          "data": {
            "text/plain": "   Row_number       Country or area_x Color_x  Adolescent fertility rate_x  \\\n0           2                 Albania  yellow                         14.9   \n1           7                Anguilla  yellow                          0.0   \n2          42  China, Hong Kong SAR 5  yellow                          4.2   \n3          47            Cook Islands  yellow                         62.0   \n4          52                Cyprus 7  yellow                          5.5   \n\n        Country or area_y Color_y  Adolescent fertility rate_y  \n0                 Albania  yellow                         14.9  \n1                Anguilla  yellow                          0.0  \n2  China, Hong Kong SAR 5  yellow                          4.2  \n3            Cook Islands  yellow                         62.0  \n4                Cyprus 7  yellow                          5.5  ",
            "text/html": "<div>\n<style scoped>\n    .dataframe tbody tr th:only-of-type {\n        vertical-align: middle;\n    }\n\n    .dataframe tbody tr th {\n        vertical-align: top;\n    }\n\n    .dataframe thead th {\n        text-align: right;\n    }\n</style>\n<table border=\"1\" class=\"dataframe\">\n  <thead>\n    <tr style=\"text-align: right;\">\n      <th></th>\n      <th>Row_number</th>\n      <th>Country or area_x</th>\n      <th>Color_x</th>\n      <th>Adolescent fertility rate_x</th>\n      <th>Country or area_y</th>\n      <th>Color_y</th>\n      <th>Adolescent fertility rate_y</th>\n    </tr>\n  </thead>\n  <tbody>\n    <tr>\n      <th>0</th>\n      <td>2</td>\n      <td>Albania</td>\n      <td>yellow</td>\n      <td>14.9</td>\n      <td>Albania</td>\n      <td>yellow</td>\n      <td>14.9</td>\n    </tr>\n    <tr>\n      <th>1</th>\n      <td>7</td>\n      <td>Anguilla</td>\n      <td>yellow</td>\n      <td>0.0</td>\n      <td>Anguilla</td>\n      <td>yellow</td>\n      <td>0.0</td>\n    </tr>\n    <tr>\n      <th>2</th>\n      <td>42</td>\n      <td>China, Hong Kong SAR 5</td>\n      <td>yellow</td>\n      <td>4.2</td>\n      <td>China, Hong Kong SAR 5</td>\n      <td>yellow</td>\n      <td>4.2</td>\n    </tr>\n    <tr>\n      <th>3</th>\n      <td>47</td>\n      <td>Cook Islands</td>\n      <td>yellow</td>\n      <td>62.0</td>\n      <td>Cook Islands</td>\n      <td>yellow</td>\n      <td>62.0</td>\n    </tr>\n    <tr>\n      <th>4</th>\n      <td>52</td>\n      <td>Cyprus 7</td>\n      <td>yellow</td>\n      <td>5.5</td>\n      <td>Cyprus 7</td>\n      <td>yellow</td>\n      <td>5.5</td>\n    </tr>\n  </tbody>\n</table>\n</div>"
          },
          "metadata": {}
        }
      ]
    },
    {
      "metadata": {
        "trusted": true
      },
      "cell_type": "code",
      "source": ">>> inner_merged = pd.merge(df_b_color, df_b ,on=[ \"Row_number\"])\n>>> inner_merged.head()",
      "execution_count": 78,
      "outputs": [
        {
          "output_type": "execute_result",
          "execution_count": 78,
          "data": {
            "text/plain": "   Row_number       Country or area_x Color_x  Adolescent fertility rate_x  \\\n0           2                 Albania  yellow                         14.9   \n1           7                Anguilla  yellow                          0.0   \n2          42  China, Hong Kong SAR 5  yellow                          4.2   \n3          47            Cook Islands  yellow                         62.0   \n4          52                Cyprus 7  yellow                          5.5   \n\n        Country or area_y Color_y  Adolescent fertility rate_y  \n0                 Albania  yellow                         14.9  \n1                Anguilla  yellow                          0.0  \n2  China, Hong Kong SAR 5  yellow                          4.2  \n3            Cook Islands  yellow                         62.0  \n4                Cyprus 7  yellow                          5.5  ",
            "text/html": "<div>\n<style scoped>\n    .dataframe tbody tr th:only-of-type {\n        vertical-align: middle;\n    }\n\n    .dataframe tbody tr th {\n        vertical-align: top;\n    }\n\n    .dataframe thead th {\n        text-align: right;\n    }\n</style>\n<table border=\"1\" class=\"dataframe\">\n  <thead>\n    <tr style=\"text-align: right;\">\n      <th></th>\n      <th>Row_number</th>\n      <th>Country or area_x</th>\n      <th>Color_x</th>\n      <th>Adolescent fertility rate_x</th>\n      <th>Country or area_y</th>\n      <th>Color_y</th>\n      <th>Adolescent fertility rate_y</th>\n    </tr>\n  </thead>\n  <tbody>\n    <tr>\n      <th>0</th>\n      <td>2</td>\n      <td>Albania</td>\n      <td>yellow</td>\n      <td>14.9</td>\n      <td>Albania</td>\n      <td>yellow</td>\n      <td>14.9</td>\n    </tr>\n    <tr>\n      <th>1</th>\n      <td>7</td>\n      <td>Anguilla</td>\n      <td>yellow</td>\n      <td>0.0</td>\n      <td>Anguilla</td>\n      <td>yellow</td>\n      <td>0.0</td>\n    </tr>\n    <tr>\n      <th>2</th>\n      <td>42</td>\n      <td>China, Hong Kong SAR 5</td>\n      <td>yellow</td>\n      <td>4.2</td>\n      <td>China, Hong Kong SAR 5</td>\n      <td>yellow</td>\n      <td>4.2</td>\n    </tr>\n    <tr>\n      <th>3</th>\n      <td>47</td>\n      <td>Cook Islands</td>\n      <td>yellow</td>\n      <td>62.0</td>\n      <td>Cook Islands</td>\n      <td>yellow</td>\n      <td>62.0</td>\n    </tr>\n    <tr>\n      <th>4</th>\n      <td>52</td>\n      <td>Cyprus 7</td>\n      <td>yellow</td>\n      <td>5.5</td>\n      <td>Cyprus 7</td>\n      <td>yellow</td>\n      <td>5.5</td>\n    </tr>\n  </tbody>\n</table>\n</div>"
          },
          "metadata": {}
        }
      ]
    },
    {
      "metadata": {
        "trusted": true
      },
      "cell_type": "code",
      "source": "inner_merged.shape",
      "execution_count": 79,
      "outputs": [
        {
          "output_type": "execute_result",
          "execution_count": 79,
          "data": {
            "text/plain": "(48, 7)"
          },
          "metadata": {}
        }
      ]
    },
    {
      "metadata": {
        "trusted": true
      },
      "cell_type": "code",
      "source": ">>> full_merged = pd.merge(df_b_color, df_b ,how=\"outer\",on=[ \"Row_number\"])\n>>> full_merged.head()\n",
      "execution_count": 80,
      "outputs": [
        {
          "output_type": "execute_result",
          "execution_count": 80,
          "data": {
            "text/plain": "   Row_number       Country or area_x Color_x  Adolescent fertility rate_x  \\\n0           2                 Albania  yellow                         14.9   \n1           7                Anguilla  yellow                          0.0   \n2          42  China, Hong Kong SAR 5  yellow                          4.2   \n3          47            Cook Islands  yellow                         62.0   \n4          52                Cyprus 7  yellow                          5.5   \n\n        Country or area_y Color_y  Adolescent fertility rate_y  \n0                 Albania  yellow                         14.9  \n1                Anguilla  yellow                          0.0  \n2  China, Hong Kong SAR 5  yellow                          4.2  \n3            Cook Islands  yellow                         62.0  \n4                Cyprus 7  yellow                          5.5  ",
            "text/html": "<div>\n<style scoped>\n    .dataframe tbody tr th:only-of-type {\n        vertical-align: middle;\n    }\n\n    .dataframe tbody tr th {\n        vertical-align: top;\n    }\n\n    .dataframe thead th {\n        text-align: right;\n    }\n</style>\n<table border=\"1\" class=\"dataframe\">\n  <thead>\n    <tr style=\"text-align: right;\">\n      <th></th>\n      <th>Row_number</th>\n      <th>Country or area_x</th>\n      <th>Color_x</th>\n      <th>Adolescent fertility rate_x</th>\n      <th>Country or area_y</th>\n      <th>Color_y</th>\n      <th>Adolescent fertility rate_y</th>\n    </tr>\n  </thead>\n  <tbody>\n    <tr>\n      <th>0</th>\n      <td>2</td>\n      <td>Albania</td>\n      <td>yellow</td>\n      <td>14.9</td>\n      <td>Albania</td>\n      <td>yellow</td>\n      <td>14.9</td>\n    </tr>\n    <tr>\n      <th>1</th>\n      <td>7</td>\n      <td>Anguilla</td>\n      <td>yellow</td>\n      <td>0.0</td>\n      <td>Anguilla</td>\n      <td>yellow</td>\n      <td>0.0</td>\n    </tr>\n    <tr>\n      <th>2</th>\n      <td>42</td>\n      <td>China, Hong Kong SAR 5</td>\n      <td>yellow</td>\n      <td>4.2</td>\n      <td>China, Hong Kong SAR 5</td>\n      <td>yellow</td>\n      <td>4.2</td>\n    </tr>\n    <tr>\n      <th>3</th>\n      <td>47</td>\n      <td>Cook Islands</td>\n      <td>yellow</td>\n      <td>62.0</td>\n      <td>Cook Islands</td>\n      <td>yellow</td>\n      <td>62.0</td>\n    </tr>\n    <tr>\n      <th>4</th>\n      <td>52</td>\n      <td>Cyprus 7</td>\n      <td>yellow</td>\n      <td>5.5</td>\n      <td>Cyprus 7</td>\n      <td>yellow</td>\n      <td>5.5</td>\n    </tr>\n  </tbody>\n</table>\n</div>"
          },
          "metadata": {}
        }
      ]
    },
    {
      "metadata": {
        "trusted": true
      },
      "cell_type": "code",
      "source": "full_merged.shape",
      "execution_count": 81,
      "outputs": [
        {
          "output_type": "execute_result",
          "execution_count": 81,
          "data": {
            "text/plain": "(191, 7)"
          },
          "metadata": {}
        }
      ]
    },
    {
      "metadata": {
        "trusted": true
      },
      "cell_type": "code",
      "source": "left_merged = pd.merge(df_a, df_b , how=\"left\", on=[ \"Row_number\"])\nleft_merged.head()",
      "execution_count": 96,
      "outputs": [
        {
          "output_type": "execute_result",
          "execution_count": 96,
          "data": {
            "text/plain": "   Row_number Country or area_x       Year Unnamed: 3  \\\n0           1       Afghanistan  2010-2015        NaN   \n1           2           Albania  2010-2015        NaN   \n2           3           Algeria  2010-2015        NaN   \n3           4    American Samoa       2000          *   \n4           5           Andorra       2009         **   \n\n  Adolescent fertility rate_x Unnamed: 5  Unnamed: 6 Total fertility rate  \\\n0                        99.6        NaN         NaN                 5.97   \n1                        14.9        NaN         NaN                 1.53   \n2                         6.1        NaN         NaN                 2.14   \n3                          54        NaN         NaN                 3.96   \n4                           …        NaN         NaN                 1.23   \n\n  Unnamed: 8 Country or area_y   Color  Adolescent fertility rate_y  \n0        NaN       Afghanistan     red                         99.6  \n1        NaN           Albania  yellow                         14.9  \n2        NaN           Algeria    blue                          6.1  \n3        NaN    American Samoa   green                         54.0  \n4        NaN           Andorra    pink                          0.0  ",
            "text/html": "<div>\n<style scoped>\n    .dataframe tbody tr th:only-of-type {\n        vertical-align: middle;\n    }\n\n    .dataframe tbody tr th {\n        vertical-align: top;\n    }\n\n    .dataframe thead th {\n        text-align: right;\n    }\n</style>\n<table border=\"1\" class=\"dataframe\">\n  <thead>\n    <tr style=\"text-align: right;\">\n      <th></th>\n      <th>Row_number</th>\n      <th>Country or area_x</th>\n      <th>Year</th>\n      <th>Unnamed: 3</th>\n      <th>Adolescent fertility rate_x</th>\n      <th>Unnamed: 5</th>\n      <th>Unnamed: 6</th>\n      <th>Total fertility rate</th>\n      <th>Unnamed: 8</th>\n      <th>Country or area_y</th>\n      <th>Color</th>\n      <th>Adolescent fertility rate_y</th>\n    </tr>\n  </thead>\n  <tbody>\n    <tr>\n      <th>0</th>\n      <td>1</td>\n      <td>Afghanistan</td>\n      <td>2010-2015</td>\n      <td>NaN</td>\n      <td>99.6</td>\n      <td>NaN</td>\n      <td>NaN</td>\n      <td>5.97</td>\n      <td>NaN</td>\n      <td>Afghanistan</td>\n      <td>red</td>\n      <td>99.6</td>\n    </tr>\n    <tr>\n      <th>1</th>\n      <td>2</td>\n      <td>Albania</td>\n      <td>2010-2015</td>\n      <td>NaN</td>\n      <td>14.9</td>\n      <td>NaN</td>\n      <td>NaN</td>\n      <td>1.53</td>\n      <td>NaN</td>\n      <td>Albania</td>\n      <td>yellow</td>\n      <td>14.9</td>\n    </tr>\n    <tr>\n      <th>2</th>\n      <td>3</td>\n      <td>Algeria</td>\n      <td>2010-2015</td>\n      <td>NaN</td>\n      <td>6.1</td>\n      <td>NaN</td>\n      <td>NaN</td>\n      <td>2.14</td>\n      <td>NaN</td>\n      <td>Algeria</td>\n      <td>blue</td>\n      <td>6.1</td>\n    </tr>\n    <tr>\n      <th>3</th>\n      <td>4</td>\n      <td>American Samoa</td>\n      <td>2000</td>\n      <td>*</td>\n      <td>54</td>\n      <td>NaN</td>\n      <td>NaN</td>\n      <td>3.96</td>\n      <td>NaN</td>\n      <td>American Samoa</td>\n      <td>green</td>\n      <td>54.0</td>\n    </tr>\n    <tr>\n      <th>4</th>\n      <td>5</td>\n      <td>Andorra</td>\n      <td>2009</td>\n      <td>**</td>\n      <td>…</td>\n      <td>NaN</td>\n      <td>NaN</td>\n      <td>1.23</td>\n      <td>NaN</td>\n      <td>Andorra</td>\n      <td>pink</td>\n      <td>0.0</td>\n    </tr>\n  </tbody>\n</table>\n</div>"
          },
          "metadata": {}
        }
      ]
    },
    {
      "metadata": {
        "trusted": true
      },
      "cell_type": "code",
      "source": "left_merged.shape",
      "execution_count": 98,
      "outputs": [
        {
          "output_type": "execute_result",
          "execution_count": 98,
          "data": {
            "text/plain": "(217, 12)"
          },
          "metadata": {}
        }
      ]
    },
    {
      "metadata": {
        "trusted": true
      },
      "cell_type": "code",
      "source": "left_merged.tail()",
      "execution_count": 99,
      "outputs": [
        {
          "output_type": "execute_result",
          "execution_count": 99,
          "data": {
            "text/plain": "     Row_number          Country or area_x       Year Unnamed: 3  \\\n212         213  Wallis and Futuna Islands       2008          *   \n213         214             Western Sahara  2010-2015        NaN   \n214         215                      Yemen  2010-2015        NaN   \n215         216                     Zambia  2010-2015        NaN   \n216         217                   Zimbabwe  2010-2015        NaN   \n\n    Adolescent fertility rate_x Unnamed: 5  Unnamed: 6 Total fertility rate  \\\n212                           9        NaN         NaN                 2.00   \n213                        16.1        NaN         NaN                 2.45   \n214                        66.1        NaN         NaN                 4.94   \n215                       138.5        NaN         NaN                 6.30   \n216                        53.4        NaN         NaN                 3.11   \n\n    Unnamed: 8          Country or area_y   Color  Adolescent fertility rate_y  \n212        NaN  Wallis and Futuna Islands    blue                          9.0  \n213        NaN             Western Sahara   green                         16.1  \n214        NaN                      Yemen    pink                         66.1  \n215        NaN                     Zambia     red                        138.5  \n216        NaN                   Zimbabwe  yellow                         53.4  ",
            "text/html": "<div>\n<style scoped>\n    .dataframe tbody tr th:only-of-type {\n        vertical-align: middle;\n    }\n\n    .dataframe tbody tr th {\n        vertical-align: top;\n    }\n\n    .dataframe thead th {\n        text-align: right;\n    }\n</style>\n<table border=\"1\" class=\"dataframe\">\n  <thead>\n    <tr style=\"text-align: right;\">\n      <th></th>\n      <th>Row_number</th>\n      <th>Country or area_x</th>\n      <th>Year</th>\n      <th>Unnamed: 3</th>\n      <th>Adolescent fertility rate_x</th>\n      <th>Unnamed: 5</th>\n      <th>Unnamed: 6</th>\n      <th>Total fertility rate</th>\n      <th>Unnamed: 8</th>\n      <th>Country or area_y</th>\n      <th>Color</th>\n      <th>Adolescent fertility rate_y</th>\n    </tr>\n  </thead>\n  <tbody>\n    <tr>\n      <th>212</th>\n      <td>213</td>\n      <td>Wallis and Futuna Islands</td>\n      <td>2008</td>\n      <td>*</td>\n      <td>9</td>\n      <td>NaN</td>\n      <td>NaN</td>\n      <td>2.00</td>\n      <td>NaN</td>\n      <td>Wallis and Futuna Islands</td>\n      <td>blue</td>\n      <td>9.0</td>\n    </tr>\n    <tr>\n      <th>213</th>\n      <td>214</td>\n      <td>Western Sahara</td>\n      <td>2010-2015</td>\n      <td>NaN</td>\n      <td>16.1</td>\n      <td>NaN</td>\n      <td>NaN</td>\n      <td>2.45</td>\n      <td>NaN</td>\n      <td>Western Sahara</td>\n      <td>green</td>\n      <td>16.1</td>\n    </tr>\n    <tr>\n      <th>214</th>\n      <td>215</td>\n      <td>Yemen</td>\n      <td>2010-2015</td>\n      <td>NaN</td>\n      <td>66.1</td>\n      <td>NaN</td>\n      <td>NaN</td>\n      <td>4.94</td>\n      <td>NaN</td>\n      <td>Yemen</td>\n      <td>pink</td>\n      <td>66.1</td>\n    </tr>\n    <tr>\n      <th>215</th>\n      <td>216</td>\n      <td>Zambia</td>\n      <td>2010-2015</td>\n      <td>NaN</td>\n      <td>138.5</td>\n      <td>NaN</td>\n      <td>NaN</td>\n      <td>6.30</td>\n      <td>NaN</td>\n      <td>Zambia</td>\n      <td>red</td>\n      <td>138.5</td>\n    </tr>\n    <tr>\n      <th>216</th>\n      <td>217</td>\n      <td>Zimbabwe</td>\n      <td>2010-2015</td>\n      <td>NaN</td>\n      <td>53.4</td>\n      <td>NaN</td>\n      <td>NaN</td>\n      <td>3.11</td>\n      <td>NaN</td>\n      <td>Zimbabwe</td>\n      <td>yellow</td>\n      <td>53.4</td>\n    </tr>\n  </tbody>\n</table>\n</div>"
          },
          "metadata": {}
        }
      ]
    },
    {
      "metadata": {
        "trusted": true
      },
      "cell_type": "code",
      "source": "df_b.tail()",
      "execution_count": 102,
      "outputs": [
        {
          "output_type": "execute_result",
          "execution_count": 102,
          "data": {
            "text/plain": "     Row_number Country or area   Color  Adolescent fertility rate\n186         215           Yemen    pink                       66.1\n187         216          Zambia     red                      138.5\n188         217        Zimbabwe  yellow                       53.4\n189         777        Anguilla  yellow                        0.0\n190         557        Anguilla  yellow                        0.0",
            "text/html": "<div>\n<style scoped>\n    .dataframe tbody tr th:only-of-type {\n        vertical-align: middle;\n    }\n\n    .dataframe tbody tr th {\n        vertical-align: top;\n    }\n\n    .dataframe thead th {\n        text-align: right;\n    }\n</style>\n<table border=\"1\" class=\"dataframe\">\n  <thead>\n    <tr style=\"text-align: right;\">\n      <th></th>\n      <th>Row_number</th>\n      <th>Country or area</th>\n      <th>Color</th>\n      <th>Adolescent fertility rate</th>\n    </tr>\n  </thead>\n  <tbody>\n    <tr>\n      <th>186</th>\n      <td>215</td>\n      <td>Yemen</td>\n      <td>pink</td>\n      <td>66.1</td>\n    </tr>\n    <tr>\n      <th>187</th>\n      <td>216</td>\n      <td>Zambia</td>\n      <td>red</td>\n      <td>138.5</td>\n    </tr>\n    <tr>\n      <th>188</th>\n      <td>217</td>\n      <td>Zimbabwe</td>\n      <td>yellow</td>\n      <td>53.4</td>\n    </tr>\n    <tr>\n      <th>189</th>\n      <td>777</td>\n      <td>Anguilla</td>\n      <td>yellow</td>\n      <td>0.0</td>\n    </tr>\n    <tr>\n      <th>190</th>\n      <td>557</td>\n      <td>Anguilla</td>\n      <td>yellow</td>\n      <td>0.0</td>\n    </tr>\n  </tbody>\n</table>\n</div>"
          },
          "metadata": {}
        }
      ]
    },
    {
      "metadata": {
        "trusted": true
      },
      "cell_type": "code",
      "source": "right_merged = pd.merge(df_a, df_b , how=\"right\", on=[ \"Row_number\"])\nright_merged.head()",
      "execution_count": 104,
      "outputs": [
        {
          "output_type": "execute_result",
          "execution_count": 104,
          "data": {
            "text/plain": "   Row_number Country or area_x       Year Unnamed: 3  \\\n0           1       Afghanistan  2010-2015        NaN   \n1           2           Albania  2010-2015        NaN   \n2           3           Algeria  2010-2015        NaN   \n3           4    American Samoa       2000          *   \n4           5           Andorra       2009         **   \n\n  Adolescent fertility rate_x Unnamed: 5  Unnamed: 6 Total fertility rate  \\\n0                        99.6        NaN         NaN                 5.97   \n1                        14.9        NaN         NaN                 1.53   \n2                         6.1        NaN         NaN                 2.14   \n3                          54        NaN         NaN                 3.96   \n4                           …        NaN         NaN                 1.23   \n\n  Unnamed: 8 Country or area_y   Color  Adolescent fertility rate_y  \n0        NaN       Afghanistan     red                         99.6  \n1        NaN           Albania  yellow                         14.9  \n2        NaN           Algeria    blue                          6.1  \n3        NaN    American Samoa   green                         54.0  \n4        NaN           Andorra    pink                          0.0  ",
            "text/html": "<div>\n<style scoped>\n    .dataframe tbody tr th:only-of-type {\n        vertical-align: middle;\n    }\n\n    .dataframe tbody tr th {\n        vertical-align: top;\n    }\n\n    .dataframe thead th {\n        text-align: right;\n    }\n</style>\n<table border=\"1\" class=\"dataframe\">\n  <thead>\n    <tr style=\"text-align: right;\">\n      <th></th>\n      <th>Row_number</th>\n      <th>Country or area_x</th>\n      <th>Year</th>\n      <th>Unnamed: 3</th>\n      <th>Adolescent fertility rate_x</th>\n      <th>Unnamed: 5</th>\n      <th>Unnamed: 6</th>\n      <th>Total fertility rate</th>\n      <th>Unnamed: 8</th>\n      <th>Country or area_y</th>\n      <th>Color</th>\n      <th>Adolescent fertility rate_y</th>\n    </tr>\n  </thead>\n  <tbody>\n    <tr>\n      <th>0</th>\n      <td>1</td>\n      <td>Afghanistan</td>\n      <td>2010-2015</td>\n      <td>NaN</td>\n      <td>99.6</td>\n      <td>NaN</td>\n      <td>NaN</td>\n      <td>5.97</td>\n      <td>NaN</td>\n      <td>Afghanistan</td>\n      <td>red</td>\n      <td>99.6</td>\n    </tr>\n    <tr>\n      <th>1</th>\n      <td>2</td>\n      <td>Albania</td>\n      <td>2010-2015</td>\n      <td>NaN</td>\n      <td>14.9</td>\n      <td>NaN</td>\n      <td>NaN</td>\n      <td>1.53</td>\n      <td>NaN</td>\n      <td>Albania</td>\n      <td>yellow</td>\n      <td>14.9</td>\n    </tr>\n    <tr>\n      <th>2</th>\n      <td>3</td>\n      <td>Algeria</td>\n      <td>2010-2015</td>\n      <td>NaN</td>\n      <td>6.1</td>\n      <td>NaN</td>\n      <td>NaN</td>\n      <td>2.14</td>\n      <td>NaN</td>\n      <td>Algeria</td>\n      <td>blue</td>\n      <td>6.1</td>\n    </tr>\n    <tr>\n      <th>3</th>\n      <td>4</td>\n      <td>American Samoa</td>\n      <td>2000</td>\n      <td>*</td>\n      <td>54</td>\n      <td>NaN</td>\n      <td>NaN</td>\n      <td>3.96</td>\n      <td>NaN</td>\n      <td>American Samoa</td>\n      <td>green</td>\n      <td>54.0</td>\n    </tr>\n    <tr>\n      <th>4</th>\n      <td>5</td>\n      <td>Andorra</td>\n      <td>2009</td>\n      <td>**</td>\n      <td>…</td>\n      <td>NaN</td>\n      <td>NaN</td>\n      <td>1.23</td>\n      <td>NaN</td>\n      <td>Andorra</td>\n      <td>pink</td>\n      <td>0.0</td>\n    </tr>\n  </tbody>\n</table>\n</div>"
          },
          "metadata": {}
        }
      ]
    },
    {
      "metadata": {
        "trusted": true
      },
      "cell_type": "code",
      "source": "right_merged.shape",
      "execution_count": 105,
      "outputs": [
        {
          "output_type": "execute_result",
          "execution_count": 105,
          "data": {
            "text/plain": "(191, 12)"
          },
          "metadata": {}
        }
      ]
    },
    {
      "metadata": {
        "trusted": true
      },
      "cell_type": "code",
      "source": "",
      "execution_count": null,
      "outputs": []
    }
  ],
  "metadata": {
    "kernelspec": {
      "name": "python2",
      "display_name": "Python 2",
      "language": "python"
    },
    "language_info": {
      "mimetype": "text/x-python",
      "nbconvert_exporter": "python",
      "name": "python",
      "pygments_lexer": "ipython2",
      "version": "2.7.15",
      "file_extension": ".py",
      "codemirror_mode": {
        "version": 2,
        "name": "ipython"
      }
    }
  },
  "nbformat": 4,
  "nbformat_minor": 1
}